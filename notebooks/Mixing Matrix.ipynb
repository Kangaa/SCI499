{
  "cells": [
    {
      "cell_type": "raw",
      "metadata": {},
      "source": [
        "---\n",
        "title: \"Hierarchical mixing matrix construction\"\n",
        "format: html\n",
        "---"
      ],
      "id": "15283263"
    },
    {
      "cell_type": "code",
      "metadata": {},
      "source": [
        "using Pkg\n",
        "Pkg.activate(\".\")"
      ],
      "id": "bf2777fb",
      "execution_count": null,
      "outputs": []
    },
    {
      "cell_type": "markdown",
      "metadata": {},
      "source": [
        "The SA Classification standard gives a numerical code to each region in an area\n",
        "\n",
        "The SA2 level codes for Greater Melbourne are given in the file `data/GmelbSA2Pop21.csv`\n"
      ],
      "id": "aac7c6be"
    },
    {
      "cell_type": "code",
      "metadata": {},
      "source": [
        "using CSV\n",
        "using DataFrames\n",
        "SA2_codes = CSV.read(\"data/GmelbSA2Pop21.csv\", DataFrame)"
      ],
      "id": "ab6a8778",
      "execution_count": null,
      "outputs": []
    }
  ],
  "metadata": {
    "kernelspec": {
      "name": "julia-1.8",
      "language": "julia",
      "display_name": "Julia 1.8.3"
    }
  },
  "nbformat": 4,
  "nbformat_minor": 5
}