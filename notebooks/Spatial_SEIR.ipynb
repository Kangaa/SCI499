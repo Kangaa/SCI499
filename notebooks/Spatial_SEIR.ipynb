{
  "cells": [
    {
      "cell_type": "markdown",
      "id": "2e0f8c61",
      "metadata": {
        "tags": []
      },
      "source": [
        "---\n",
        "title: \"Spatial SEIR\"\n",
        "format: html\n",
        "---"
      ]
    },
    {
      "cell_type": "code",
      "execution_count": 1,
      "id": "ffc887cf",
      "metadata": {},
      "outputs": [],
      "source": [
        "using DrWatson\n",
        "@quickactivate \"SCI499\""
      ]
    },
    {
      "cell_type": "code",
      "execution_count": 2,
      "id": "a6d6092d",
      "metadata": {},
      "outputs": [],
      "source": [
        "using CSV\n",
        "using CSVFiles\n",
        "using DataFrames\n",
        "using Match\n",
        "\n",
        "include(srcdir(\"JRB_Spatial_SEIR_model_src.jl\"))"
      ]
    },
    {
      "attachments": {},
      "cell_type": "markdown",
      "id": "103496e2",
      "metadata": {},
      "source": [
        "## Mixing matrix\n",
        "\n",
        "### Choose regions\n"
      ]
    },
    {
      "cell_type": "code",
      "execution_count": null,
      "id": "49df4123",
      "metadata": {},
      "outputs": [],
      "source": []
    },
    {
      "cell_type": "code",
      "execution_count": null,
      "id": "85ec7853",
      "metadata": {},
      "outputs": [],
      "source": [
        "using Shapefile\n",
        "\n",
        "ASGSdir = datadir(\"ASGS_GDA2020\")\n",
        "\n",
        "(AUS_SHP,\n",
        "GCCSA_SHP,\n",
        "MB_SHP,\n",
        "SA1_SHP,\n",
        "SA2_SHP,\n",
        "SA3_SHP,\n",
        "SA4_SHP, \n",
        "STE_SHP) = Shapefile.Table.(joinpath.(joinpath(ASGSdir),\n",
        "                readdir(ASGSdir),\n",
        "                string.(replace.(readdir(ASGSdir), r\"_SHP\" => \"\"),\n",
        "                 \".shp\")))"
      ]
    },
    {
      "cell_type": "markdown",
      "id": "e574bf59",
      "metadata": {},
      "source": [
        "Create an index of the SA regions in the Greater Melbourne GCC"
      ]
    },
    {
      "cell_type": "code",
      "execution_count": null,
      "id": "8779d582",
      "metadata": {},
      "outputs": [],
      "source": [
        "using Tables\n",
        "\n",
        "GMelb_SA1_SHP,\n",
        "GMelb_SA2_SHP,\n",
        "GMelb_SA3_SHP,\n",
        "SGMelb_A4_SHP = (\n",
        "    SA1_SHP,\n",
        "    SA2_SHP,\n",
        "    SA3_SHP,\n",
        "    SA4_SHP) .|>\n",
        "     x -> Tables.subset(x, x.GCC_NAME21 .== \"Greater Melbourne\")"
      ]
    },
    {
      "cell_type": "markdown",
      "id": "d20ee5dd",
      "metadata": {},
      "source": [
        "lets start with SA3\n",
        "\n",
        "List of names"
      ]
    },
    {
      "cell_type": "code",
      "execution_count": null,
      "id": "114223ba",
      "metadata": {},
      "outputs": [],
      "source": [
        "function get_SA_names(SHP)              \n",
        "    fields = string.(Tables.columnnames(SHP)) \n",
        "    index = findfirst(endswith(\"NAME21\"), fields)\n",
        "    sym = Symbol(fields[index])\n",
        "    Tables.getcolumn(SHP, sym)\n",
        "end\n",
        "\n",
        "function get_SA_codes(SHP)              \n",
        "    fields = string.(Tables.columnnames(SHP)) \n",
        "    index = findfirst(endswith(\"CODE21\"), fields)\n",
        "    sym = Symbol(fields[index])\n",
        "    Tables.getcolumn(SHP, sym)\n",
        "end\n",
        "\n",
        "\n",
        "get_SA_codes(GMelb_SA3_SHP)"
      ]
    },
    {
      "cell_type": "markdown",
      "id": "f71dda17",
      "metadata": {},
      "source": [
        " generate a mixing matrix "
      ]
    },
    {
      "cell_type": "code",
      "execution_count": null,
      "id": "382aee40",
      "metadata": {},
      "outputs": [],
      "source": [
        "SA_names = get_SA_names(GMelb_SA3_SHP)\n",
        "mat_dims = length(SA_names)\n",
        "\n",
        "mm = fill(0.001, mat_dims, mat_dims)\n",
        "for i in 1:mat_dims\n",
        "    for j in 1:mat_dims\n",
        "        if i == j \n",
        "            mm[i,j] = 1/3\n",
        "        elseif  j == (i-1)\n",
        "            mm[i,j] = 1/5\n",
        "        elseif  j == (i+1)\n",
        "            mm[i,j] = 1/5\n",
        "        end\n",
        "    end\n",
        "end\n",
        "\n",
        "popns = fill(1000, mat_dims)"
      ]
    },
    {
      "cell_type": "code",
      "execution_count": null,
      "id": "561de27b",
      "metadata": {},
      "outputs": [],
      "source": [
        "mixmat = MixMat(mm, SA_names, popns, Uniform(0.5), .5)"
      ]
    },
    {
      "cell_type": "markdown",
      "id": "41b9ba10",
      "metadata": {},
      "source": [
        "## SEIR Model\n",
        "We can now create our parameters object\n"
      ]
    },
    {
      "cell_type": "code",
      "execution_count": null,
      "id": "e21a7c53",
      "metadata": {},
      "outputs": [],
      "source": [
        "β = 2.0\n",
        "σ = 2.0\n",
        "γ = 0.5\n",
        "\n",
        "params = Params(β, σ, γ, mixmat)"
      ]
    },
    {
      "cell_type": "code",
      "execution_count": null,
      "id": "6186a46c",
      "metadata": {},
      "outputs": [],
      "source": [
        "totlog, inflog  = run_sim(params, 10)"
      ]
    },
    {
      "cell_type": "code",
      "execution_count": null,
      "id": "020758eb",
      "metadata": {},
      "outputs": [],
      "source": [
        "using StatsPlots\n",
        "@df totlog plot(:t, [:S :E :I])"
      ]
    },
    {
      "cell_type": "code",
      "execution_count": null,
      "id": "93691c17",
      "metadata": {},
      "outputs": [],
      "source": [
        "@df inflog plot(:t, [cols(2:41)], legend = false)"
      ]
    },
    {
      "cell_type": "code",
      "execution_count": null,
      "id": "1045f486",
      "metadata": {},
      "outputs": [],
      "source": [
        "using ColorSchemes\n",
        "using StatsPlots\n",
        "frac_infs = inflog./10\n",
        "savename(params)"
      ]
    },
    {
      "cell_type": "code",
      "execution_count": null,
      "id": "ddbe09c6",
      "metadata": {},
      "outputs": [],
      "source": [
        "using ColorSchemes\n",
        "plot()\n",
        "\n",
        "anim = @animate for i in 1:1000:nrow(inflog)\n",
        "    for j in eachindex(GMelb_SA3_SHP.geometry)\n",
        "        plot!(GMelb_SA3_SHP.geometry[j], color = get(ColorSchemes.viridis, frac_infs[i, j]))\n",
        "    end\n",
        "end\n",
        "\n",
        "gif(anim)"
      ]
    }
  ],
  "metadata": {
    "kernelspec": {
      "display_name": "Julia 1.8.3",
      "language": "julia",
      "name": "julia-1.8"
    },
    "language_info": {
      "file_extension": ".jl",
      "mimetype": "application/julia",
      "name": "julia",
      "version": "1.8.3"
    }
  },
  "nbformat": 4,
  "nbformat_minor": 5
}
