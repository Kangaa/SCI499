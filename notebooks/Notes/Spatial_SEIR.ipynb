{
  "cells": [
    {
      "cell_type": "raw",
      "metadata": {},
      "source": [
        "---\n",
        "title: \"Spatial SEIR\"\n",
        "format: html\n",
        "---"
      ],
      "id": "ee647cba"
    },
    {
      "cell_type": "code",
      "metadata": {},
      "source": [
        "using DrWatson\n",
        "@quickactivate \"SCI499\""
      ],
      "id": "af6a0bf3",
      "execution_count": null,
      "outputs": []
    },
    {
      "cell_type": "code",
      "metadata": {},
      "source": [
        "using CSV\n",
        "using CSVFiles\n",
        "using DataFrames\n",
        "using Match\n",
        "\n",
        "include(srcdir(\"JRB_Spatial_SEIR_model_src.jl\"))"
      ],
      "id": "65744d2e",
      "execution_count": null,
      "outputs": []
    },
    {
      "cell_type": "markdown",
      "metadata": {},
      "source": [
        "##Mixing matrix\n",
        "\n",
        "### Choose regions\n"
      ],
      "id": "40c991f9"
    },
    {
      "cell_type": "code",
      "metadata": {},
      "source": [
        "using Shapefile\n",
        "\n",
        "ASGSdir = datadir(\"ASGS_GDA2020\")\n",
        "\n",
        "(AUS_SHP,\n",
        "GCCSA_SHP,\n",
        "MB_SHP,\n",
        "SA1_SHP,\n",
        "SA2_SHP,\n",
        "SA3_SHP,\n",
        "SA4_SHP, \n",
        "STE_SHP) = Shapefile.Table.(joinpath.(joinpath(ASGSdir),\n",
        "                readdir(ASGSdir),\n",
        "                string.(replace.(readdir(ASGSdir), r\"_SHP\" => \"\"),\n",
        "                 \".shp\")))"
      ],
      "id": "4d027240",
      "execution_count": null,
      "outputs": []
    },
    {
      "cell_type": "markdown",
      "metadata": {},
      "source": [
        "Create an index of the SA regions in the Greater Melbourne GCC"
      ],
      "id": "af073305"
    },
    {
      "cell_type": "code",
      "metadata": {},
      "source": [
        "using Tables\n",
        "\n",
        "GMelb_SA1_SHP,\n",
        "GMelb_SA2_SHP,\n",
        "GMelb_SA3_SHP,\n",
        "SGMelb_A4_SHP = (\n",
        "    SA1_SHP,\n",
        "    SA2_SHP,\n",
        "    SA3_SHP,\n",
        "    SA4_SHP) .|>\n",
        "     x -> Tables.subset(x, x.GCC_NAME21 .== \"Greater Melbourne\")"
      ],
      "id": "ce42bc28",
      "execution_count": null,
      "outputs": []
    },
    {
      "cell_type": "markdown",
      "metadata": {},
      "source": [
        "lets start with SA3\n",
        "\n",
        "List of names"
      ],
      "id": "786f1e23"
    },
    {
      "cell_type": "code",
      "metadata": {},
      "source": [
        "function get_SA_names(SHP)              \n",
        "    fields = string.(Tables.columnnames(SHP)) \n",
        "    index = findfirst(endswith(\"NAME21\"), fields)\n",
        "    sym = Symbol(fields[index])\n",
        "    Tables.getcolumn(SHP, sym)\n",
        "end\n",
        "\n",
        "function get_SA_codes(SHP)              \n",
        "    fields = string.(Tables.columnnames(SHP)) \n",
        "    index = findfirst(endswith(\"CODE21\"), fields)\n",
        "    sym = Symbol(fields[index])\n",
        "    Tables.getcolumn(SHP, sym)\n",
        "end\n",
        "\n",
        "\n",
        "get_SA_codes(GMelb_SA3_SHP)"
      ],
      "id": "8f7080c5",
      "execution_count": null,
      "outputs": []
    },
    {
      "cell_type": "markdown",
      "metadata": {},
      "source": [
        " generate a mixing matrix "
      ],
      "id": "00bc0d31"
    },
    {
      "cell_type": "code",
      "metadata": {},
      "source": [
        "SA_names = get_SA_names(GMelb_SA3_SHP)\n",
        "mat_dims = length(SA_names)\n",
        "\n",
        "mm = fill(0.001, mat_dims, mat_dims)\n",
        "for i in 1:mat_dims\n",
        "    for j in 1:mat_dims\n",
        "        if i == j \n",
        "            mm[i,j] = 1/3\n",
        "        elseif  j == (i-1)\n",
        "            mm[i,j] = 1/5\n",
        "        elseif  j == (i+1)\n",
        "            mm[i,j] = 1/5\n",
        "        end\n",
        "    end\n",
        "end\n",
        "\n",
        "popns = fill(1000, mat_dims)"
      ],
      "id": "b05ff310",
      "execution_count": null,
      "outputs": []
    },
    {
      "cell_type": "code",
      "metadata": {},
      "source": [
        "mixmat = MixMat(mm, SA_names, popns, Uniform(0.5), .5)"
      ],
      "id": "33cd5709",
      "execution_count": null,
      "outputs": []
    },
    {
      "cell_type": "markdown",
      "metadata": {},
      "source": [
        "## SEIR Model\n",
        "We can now create our parameters object\n"
      ],
      "id": "2b74bc5a"
    },
    {
      "cell_type": "code",
      "metadata": {},
      "source": [
        "β = 2.0\n",
        "σ = 2.0\n",
        "γ = 0.5\n",
        "\n",
        "params = Params(β, σ, γ, mixmat)"
      ],
      "id": "6f3809b1",
      "execution_count": null,
      "outputs": []
    },
    {
      "cell_type": "code",
      "metadata": {},
      "source": [
        "totlog, inflog  = run_sim(params, 10)"
      ],
      "id": "c199625f",
      "execution_count": null,
      "outputs": []
    },
    {
      "cell_type": "code",
      "metadata": {},
      "source": [
        "using StatsPlots\n",
        "@df totlog plot(:t, [:S :E :I])"
      ],
      "id": "1ab79cf8",
      "execution_count": null,
      "outputs": []
    },
    {
      "cell_type": "code",
      "metadata": {},
      "source": [
        "@df inflog plot(:t, [cols(2:41)], legend = false)"
      ],
      "id": "999b4d8c",
      "execution_count": null,
      "outputs": []
    },
    {
      "cell_type": "code",
      "metadata": {},
      "source": [
        "using ColorSchemes\n",
        "using StatsPlots\n",
        "frac_infs = inflog./10\n",
        "savename(params)"
      ],
      "id": "34f85198",
      "execution_count": null,
      "outputs": []
    },
    {
      "cell_type": "code",
      "metadata": {},
      "source": [
        "using ColorSchemes\n",
        "plot()\n",
        "\n",
        "anim = @animate for i in 1:1000:nrow(inflog)\n",
        "    for j in eachindex(GMelb_SA2_SHP.geometry)\n",
        "        plot!(GMelb_SA2_SHP.geometry[j], color = get(ColorSchemes.viridis, frac_infs[i, j]))\n",
        "    end\n",
        "end\n",
        "\n",
        "gif(anim)"
      ],
      "id": "28945209",
      "execution_count": null,
      "outputs": []
    }
  ],
  "metadata": {
    "kernelspec": {
      "name": "julia-1.8",
      "language": "julia",
      "display_name": "Julia 1.8.3"
    }
  },
  "nbformat": 4,
  "nbformat_minor": 5
}