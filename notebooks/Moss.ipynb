{
  "cells": [
    {
      "cell_type": "code",
      "metadata": {},
      "source": [
        "using DrWatson\n",
        "using CSV"
      ],
      "id": "b88345a1",
      "execution_count": null,
      "outputs": []
    },
    {
      "cell_type": "markdown",
      "metadata": {},
      "source": [
        "get the mixing matrix from CSV"
      ],
      "id": "a2a25ff6"
    },
    {
      "cell_type": "code",
      "metadata": {},
      "source": [
        "frac_self = 0.5\n",
        "frac_cbd = 0.2\n",
        "path = joinpath(datadir(), \"Moss2018\\\\mixing\\\\abs_all.csv\")\n",
        "mixmat =CSV.File(path) \n",
        "CSV.ta"
      ],
      "id": "2531f24f",
      "execution_count": null,
      "outputs": []
    },
    {
      "cell_type": "markdown",
      "metadata": {},
      "source": [
        "Epidemiological parameters\n"
      ],
      "id": "7d679273"
    },
    {
      "cell_type": "code",
      "metadata": {},
      "source": [
        "r0 = 1.4\n",
        "σ = 2.0\n",
        "γ = 0.5"
      ],
      "id": "e416565a",
      "execution_count": null,
      "outputs": []
    },
    {
      "cell_type": "markdown",
      "metadata": {},
      "source": [
        "Model Parameter type\n"
      ],
      "id": "d9995d61"
    },
    {
      "cell_type": "code",
      "metadata": {},
      "source": [
        "struct Params\n",
        "    β::Float64\n",
        "    σ::Float64\n",
        "    γ::Float64\n",
        "    popn::Vector\n",
        "    mixmat::AbstractArray\n",
        "end"
      ],
      "id": "c0b80c82",
      "execution_count": null,
      "outputs": []
    },
    {
      "cell_type": "markdown",
      "metadata": {},
      "source": [
        "Model State type"
      ],
      "id": "7e7ddcbc"
    },
    {
      "cell_type": "code",
      "metadata": {},
      "source": [
        "struct Model\n",
        "    params::Params\n",
        "    numpatch::Int\n",
        "    t::Float64\n",
        "    s::Vector\n",
        "    e::Vector\n",
        "    i::Vector\n",
        "end"
      ],
      "id": "60d270ed",
      "execution_count": null,
      "outputs": []
    },
    {
      "cell_type": "markdown",
      "metadata": {},
      "source": [
        "Event type\n"
      ],
      "id": "941dcae9"
    }
  ],
  "metadata": {
    "kernelspec": {
      "name": "julia-1.8",
      "language": "julia",
      "display_name": "Julia 1.8.3"
    }
  },
  "nbformat": 4,
  "nbformat_minor": 5
}