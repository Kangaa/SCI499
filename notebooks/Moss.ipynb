{
  "cells": [
    {
      "cell_type": "markdown",
      "metadata": {},
      "source": [
        "# Replicating Moss et al. 2019"
      ]
    },
    {
      "cell_type": "code",
      "metadata": {},
      "source": [
        "using DrWatson\n",
        "@quickactivate \"SCI499\"\n",
        "\n",
        "#include(readdir(scriptsdir(\"MossModel\"), join = true))"
      ],
      "execution_count": null,
      "outputs": []
    },
    {
      "cell_type": "markdown",
      "metadata": {},
      "source": [
        "*todo\n",
        "\n",
        "[@moss2019WhatCanUrban]\n",
        "\n",
        "The simulation model is a Rust program comprising five files: Lib.rs, main.rs, mixing.rs, run.rs, seir.rs\n",
        "mixing.rs, run.rs, and seir.rs comprise modules for the 'spatial_seir' package defined in lib.rs, which is imported to the main.rs program. \n",
        "\n",
        "## Mixture Matrix Construction\n",
        "\n",
        "The first task is to import the population data which will ultiamtely comprise a mixing matrix. The main components here are an population table (describing the number of individuals in a given SA 3 region) and an origin destination matrix, which specifies how much individuals travel between regions. These two files are composed to a dedictated type 'OdMat' which contains the matrix, population numbers and names of the regions"
      ]
    },
    {
      "cell_type": "code",
      "metadata": {},
      "source": [
        "struct OdMat\n",
        "    m::Array{Float64, 2}\n",
        "    names::Vector{String}\n",
        "    popns::Array{Int, 1}\n",
        "end"
      ],
      "execution_count": null,
      "outputs": []
    },
    {
      "cell_type": "markdown",
      "metadata": {},
      "source": [
        "The population data for a given set of names is imported by the the function \"read_popn\""
      ]
    },
    {
      "cell_type": "code",
      "metadata": {},
      "source": [
        "using CSV\n",
        "using DataFrames\n",
        "\n",
        "function read_popns(path::AbstractString, names::Vector{String})::Vector{Int}\n",
        "    reader = CSV.read(path,DataFrame)\n",
        "    popn_tbl = Dict{String, Int}()\n",
        "    for row in eachrow(reader)\n",
        "        name = row[2]\n",
        "        if haskey(popn_tbl, \"$name\")\n",
        "            error(\"Multiple populations for $name\")\n",
        "        else\n",
        "            value = row[3]\n",
        "            popn_tbl[\"$name\"] = value\n",
        "        end\n",
        "    end\n",
        "    popns = Vector{Int}()\n",
        "    for name in names\n",
        "        if haskey(popn_tbl, \"$name\")\n",
        "            push!(popns, popn_tbl[\"$name\"])\n",
        "        else\n",
        "            error(\"No population defined for $name\")\n",
        "        end\n",
        "    end\n",
        "    return popns\n",
        "end"
      ],
      "execution_count": null,
      "outputs": []
    },
    {
      "cell_type": "markdown",
      "metadata": {},
      "source": [
        "odin the data file are found using the find_mm function"
      ]
    },
    {
      "cell_type": "code",
      "metadata": {},
      "source": [
        "using Match\n",
        "\n",
        "function find_mm(path, subdir::Bool)::Vector{String}\n",
        "    files = []\n",
        "    for entry in readdir(path, join = true)\n",
        "        f = entry\n",
        "        if f|>isfile\n",
        "            ext = split(f, \".\")[2]\n",
        "            @match ext begin\n",
        "                \"csv\" => push!(files, f)\n",
        "            end\n",
        "        elseif f|>isdir && subdir\n",
        "            for sub_entry in readdir(f, join = true)\n",
        "                sub_f = sub_entry\n",
        "                if sub_f|>isfile\n",
        "                    ext = split(sub_f, \".\")[2]\n",
        "                    @match ext begin\n",
        "                        \"csv\" => push!(files, sub_f)\n",
        "                    end\n",
        "                end\n",
        "            end\n",
        "        end\n",
        "    end\n",
        "    files|>sort!\n",
        "    files\n",
        "end"
      ],
      "execution_count": null,
      "outputs": []
    },
    {
      "cell_type": "markdown",
      "metadata": {},
      "source": [
        "And then imported and combined with population data via 'read_OdMat'"
      ]
    },
    {
      "cell_type": "code",
      "metadata": {},
      "source": [
        "function read_OdMat(mm_path::AbstractString, popn_path::AbstractString)::OdMat\n",
        "    reader = CSV.read(ODdir, DataFrame)\n",
        "    names = Vector{String}()\n",
        "    values = Vector{Float64}()\n",
        "    for row in eachrow(reader)\n",
        "        push!(names, string(row[1]))\n",
        "        for val in row[2:end]\n",
        "            push!(values, val)\n",
        "        end\n",
        "    end\n",
        "    \n",
        "    n = length(names)\n",
        "    mat = reshape(values, (n, n))\n",
        "    popns = read_popns(popn_path, names)\n",
        "    \n",
        "     OdMat(mat, names, popns)\n",
        "end"
      ],
      "execution_count": null,
      "outputs": []
    },
    {
      "cell_type": "code",
      "metadata": {},
      "source": [
        "ODdir = datadir(\"Moss2018\\\\mixing\\\\abs_public.csv\")\n",
        "popdir = datadir(\"Moss2018\\\\mixing\\\\sa3-populations.ssv\")\n",
        "\n",
        "OD = read_OdMat(ODdir, popdir)"
      ],
      "execution_count": null,
      "outputs": []
    },
    {
      "cell_type": "markdown",
      "metadata": {},
      "source": [
        "A mixture matrix object (::MixMat)  stores this OD matrix in affition information about the fraction of trips that are taken within individual regions (this can either be a constant across all regions, or vary between regions) and a dedicatied fraction for trips to the cbd (which will be useful for modelling later on).\n",
        "\n",
        "The option between constant (::Uniform) or different (::Variable) fractions of self-trips is encoded in its own type hierarchy"
      ]
    },
    {
      "cell_type": "code",
      "metadata": {},
      "source": [
        "abstract type FracSelf end\n",
        "struct Uniform{Float64} <: FracSelf \n",
        "    a::Float64\n",
        "end\n",
        "struct Variable{Array} <: FracSelf end"
      ],
      "execution_count": null,
      "outputs": []
    },
    {
      "cell_type": "markdown",
      "metadata": {},
      "source": [
        "Which is an attribute of the MixMat type"
      ]
    },
    {
      "cell_type": "code",
      "metadata": {},
      "source": [
        "struct MixMat\n",
        "    m::Array{Real, 2}\n",
        "    names::Vector{String}\n",
        "    popns::Array{Int, 1}\n",
        "    frac_self::FracSelf\n",
        "    frac_cbd::Real\n",
        "end"
      ],
      "execution_count": null,
      "outputs": []
    },
    {
      "cell_type": "markdown",
      "metadata": {},
      "source": [
        "Before actually instantiating this MixMat, there are some checks and scalings to make sure it comes out right (i'm not actually sure what this achieves yet, but I'll keep it in for now.)\n"
      ]
    },
    {
      "cell_type": "code",
      "metadata": {},
      "source": [
        "using LinearAlgebra\n",
        "function scale_diag_var!(mat::Matrix{T}, frac_self::Vector{T}) where T<:AbstractFloat\n",
        "    @inbounds for i in 1:size(mat, 1)\n",
        "        mat[i, :] = mat[i, :] .* ((1.0 - frac_self[i]) ./ sum(mat[i, :]))\n",
        "    end\n",
        "    diag(mat) .= frac_self\n",
        "end\n",
        "\n",
        "function scale_diag_unif!(mat::Matrix{T}, frac_self) where T<:AbstractFloat\n",
        "    frac_mix = 1.0 - frac_self\n",
        "    @inbounds for i in 1:size(mat, 1)\n",
        "        mat[i, :] = mat[i, :] .* (frac_mix ./ sum(mat[i, :]))\n",
        "    end\n",
        "    diag(mat) .= frac_self\n",
        "end\n",
        "\n",
        "function scale_diag!(mat::Matrix{T}, frac_self) where T<:AbstractFloat\n",
        "    if isa(frac_self, Uniform)\n",
        "        scale_diag_unif!(mat, frac_self.a)\n",
        "    elseif isa(frac_self, Variable)\n",
        "        scale_diag_var!(mat, frac_self.x)\n",
        "    end\n",
        "end\n",
        "\n",
        "function test_scale_diag(mat::Matrix{T}, frac_self::T) where T<:AbstractFloat\n",
        "    m1 = copy(mat)\n",
        "    scale_diag_unif!(m1, frac_self)\n",
        "\n",
        "    m2 = copy(mat)\n",
        "    fs2 = fill(frac_self, size(mat, 1))\n",
        "    scale_diag_var!(m2, fs2)\n",
        "\n",
        "    m3 = copy(mat)\n",
        "    fs3 = fill(frac_self, size(mat, 1))\n",
        "    fs3[2] *= 0.9\n",
        "    scale_diag_var!(m3, fs3)\n",
        "\n",
        "    @assert all(abs.(1.0 .- sum(m1, dims=2)) .< 1e-8) \"m1 rowsum\"\n",
        "    @assert all(abs.(1.0 .- sum(m2, dims=2)) .< 1e-8) \"m2 rowsum\"\n",
        "    @assert all(abs.(1.0 .- sum(m3, dims=2)) .< 1e-8) \"m3 rowsum\"\n",
        "    @assert m1 == m2 \"mixing matrices differ\"\n",
        "    @assert m1 != m3 \"mixing matrices do not differ\"\n",
        "end\n",
        "\n",
        "function redistribute!(mat::Matrix{Float64}, popns::Vector{Int},\n",
        "    frac_cbd::Float64, cbd_ix::Int)\n",
        "    # Determine how much all other regions mix with the CBD.\n",
        "    mix_w_cbd = copy(mat[:, cbd_ix])\n",
        "    mix_w_cbd[cbd_ix] = 0.0\n",
        "\n",
        "    # Weight the mixing by each region's resident population.\n",
        "    mix_w_cbd .= mix_w_cbd .* Float64.(popns)\n",
        "\n",
        "    # Normalise these values to conserve the force of infection.\n",
        "    mix_w_cbd /= sum(mix_w_cbd)\n",
        "\n",
        "        for rix in 1:size(mat, 1)\n",
        "            if rix == cbd_ix\n",
        "                continue\n",
        "            end\n",
        "\n",
        "        row = mat[rix, :]\n",
        "        cbd_mix = row[cbd_ix]\n",
        "        add_mix = [cbd_mix * (1.0 - frac_cbd) * v for v in mix_w_cbd]\n",
        "        row += add_mix\n",
        "        row[cbd_ix] = cbd_mix * frac_cbd\n",
        "        mat[rix, :] = row\n",
        "    end\n",
        "end"
      ],
      "execution_count": null,
      "outputs": []
    },
    {
      "cell_type": "markdown",
      "metadata": {},
      "source": [
        "With these in place, we can define the constructor for the mixture matrix, taking an OD matrix with fractions of self and cbd mixing as input. "
      ]
    },
    {
      "cell_type": "code",
      "metadata": {},
      "source": [
        "function new_MixMat(od::OdMat, frac_self::FracSelf, frac_cbd::Float64)::MixMat\n",
        "    mat = copy(od.m)\n",
        "    names = copy(od.names)\n",
        "    popns = copy(od.popns)\n",
        "    scale_diag!(mat, frac_self)\n",
        "    cbd_ix = findfirst(isequal(\"20604\"), names)\n",
        "    redistribute!(mat, popns, frac_cbd, cbd_ix)\n",
        "    MixMat(mat, names, popns, frac_self, frac_cbd)\n",
        "end"
      ],
      "execution_count": null,
      "outputs": []
    },
    {
      "cell_type": "markdown",
      "metadata": {},
      "source": [
        "Now we can create our final mixing matrix with OD and some values for frac_self and frac_cbd"
      ]
    },
    {
      "cell_type": "code",
      "metadata": {},
      "source": [
        "frac_self = Uniform(0.5)\n",
        "frac_cbd = 0.2\n",
        "\n",
        "mixmat = new_MixMat(OD, frac_self, frac_cbd)"
      ],
      "execution_count": null,
      "outputs": []
    },
    {
      "cell_type": "markdown",
      "metadata": {},
      "source": [
        "We have our mixing matrix (in the ::MixMat type) ready for input into a SEIR Model\n",
        "\n",
        "## Specifying SEIR Model\n",
        "\n",
        "### Parameters"
      ]
    },
    {
      "cell_type": "code",
      "metadata": {},
      "source": [
        "struct Params\n",
        "    β::Float64\n",
        "    σ::Float64\n",
        "    γ::Float64\n",
        "    popn::Vector{Int} #Vector of patch sizes\n",
        "    mixmat::Array{Real, 2}\n",
        "end"
      ],
      "execution_count": null,
      "outputs": []
    },
    {
      "cell_type": "code",
      "metadata": {},
      "source": [
        "β = 0.7\n",
        "σ = 2.0\n",
        "γ = 0.5\n",
        "mm = mixmat.m\n",
        "popns = mixmat.popns\n",
        "\n",
        "params = Params(β, σ, γ, popns, mm)"
      ],
      "execution_count": null,
      "outputs": []
    },
    {
      "cell_type": "markdown",
      "metadata": {},
      "source": [
        "### Model"
      ]
    },
    {
      "cell_type": "code",
      "metadata": {},
      "source": [
        "mutable struct Model\n",
        "    params::Params\n",
        "    numpatch::Int\n",
        "    t::Float64\n",
        "    s::Vector\n",
        "    e::Vector\n",
        "    i::Vector\n",
        "end"
      ],
      "execution_count": null,
      "outputs": []
    },
    {
      "cell_type": "markdown",
      "metadata": {},
      "source": [
        "Make a new model object from parameter set and an initial exposure number\n",
        "\n",
        "### Initialise model"
      ]
    },
    {
      "cell_type": "code",
      "metadata": {},
      "source": [
        "function new_model(params::Params, e0::Int)\n",
        "    #first block selects a random patch from those in the model\n",
        "    n_patch = params.popn |> length\n",
        "    rand_choice = rand() |> nextfloat\n",
        "    ix = (rand_choice*n_patch) |> trunc |> Integer\n",
        "    @assert ix < n_patch \"Selected patch $ix of $n_patch, from $rand_choice\"\n",
        "    s0 = copy(params.popn)\n",
        "    ##then creates a 'Model' object with the provided parameters\n",
        "    m = Model(params, n_patch, 0.0, copy(s0), zeros(n_patch),zeros(n_patch))\n",
        "        ##and sets the number of exposures to e0\n",
        "    m.s[ix] -= e0 \n",
        "    m.e[ix] += e0 \n",
        "    # and returns the model\n",
        "    m\n",
        "end"
      ],
      "execution_count": null,
      "outputs": []
    },
    {
      "cell_type": "markdown",
      "metadata": {},
      "source": [
        "Initialize a new model with 10 exposures"
      ]
    },
    {
      "cell_type": "code",
      "metadata": {},
      "source": [
        "m = new_model(params, 10)"
      ],
      "execution_count": null,
      "outputs": []
    },
    {
      "cell_type": "markdown",
      "metadata": {},
      "source": [
        "### Event rates"
      ]
    },
    {
      "cell_type": "code",
      "metadata": {},
      "source": [
        "function event_rates(m::Model)::Array{Float64, 1}\n",
        "        rates = zeros(3*(m.params.popn|> length))\n",
        "        s_frac = m.s ./ m.params.popn\n",
        "        inf_force = m.params.β*(transpose(m.params.mixmat)*m.i)\n",
        "        n1 = m.numpatch\n",
        "        n2 = 2*m.numpatch\n",
        "        exp_rate = s_frac.*inf_force      \n",
        "        inf_rate = m.params.σ*m.e\n",
        "        rec_rate = m.params.γ*m.i\n",
        "        rates[firstindex(rates):n1] = exp_rate\n",
        "        rates[(n1+1):n2] = inf_rate\n",
        "        rates[(n2+1):lastindex(rates)] = rec_rate\n",
        "        rates\n",
        "end"
      ],
      "execution_count": null,
      "outputs": []
    },
    {
      "cell_type": "markdown",
      "metadata": {},
      "source": [
        "### Infection log (removed)\n",
        "### Accept Simulation?"
      ]
    },
    {
      "cell_type": "code",
      "metadata": {},
      "source": [
        "function accept_simulation(m::Model)::Bool\n",
        "    cum_infs = m.params.popn - m.s + m.e\n",
        "    sum(cum_infs) >= 5000\n",
        "end"
      ],
      "execution_count": null,
      "outputs": []
    },
    {
      "cell_type": "markdown",
      "metadata": {},
      "source": [
        "### Output \n",
        "\n",
        "\n",
        "## Running the simulation\n",
        "\n",
        "### log container"
      ]
    },
    {
      "cell_type": "code",
      "metadata": {},
      "source": [
        "Cumulative_infections = DataFrame(\n",
        "    name = Vector{String}(),\n",
        "    Cumulative_infections = Vector{Int}(),\n",
        "    proportion_n = Vector{Int}(),\n",
        "    population_n = Vector{Int}()\n",
        ")"
      ],
      "execution_count": null,
      "outputs": []
    },
    {
      "cell_type": "markdown",
      "metadata": {},
      "source": [
        "The simulation runs via a gillespie (direct) type algorithm, whereby the waiting time ($\\delta t$) is exponentially distributed with rate $\\frac{1}{\\sum rate_i}$ for all possible transitions. "
      ]
    },
    {
      "cell_type": "code",
      "metadata": {},
      "source": [
        "function exp_sample(net_rate)\n",
        "    -(rand() |> log)/net_rate\n",
        "end"
      ],
      "execution_count": null,
      "outputs": []
    },
    {
      "cell_type": "markdown",
      "metadata": {},
      "source": [
        "Similarly, a random sample is taken from the possible states (according to their propensity function) to determine which event ocurrs after $\\delta t$"
      ]
    },
    {
      "cell_type": "code",
      "metadata": {},
      "source": [
        "function pick(w::AbstractArray{Float64,1})::Int\n",
        "    rnd = rand()\n",
        "    x, sum = nothing, 0.0\n",
        "    for (ix, pr) in enumerate(w)\n",
        "        if isnothing(x)\n",
        "            sum += pr\n",
        "            if sum > rnd\n",
        "                x = ix\n",
        "            end\n",
        "        end\n",
        "    end\n",
        "    return x != nothing ? x-1 : length(w)-1\n",
        "end"
      ],
      "execution_count": null,
      "outputs": []
    },
    {
      "cell_type": "markdown",
      "metadata": {},
      "source": [
        "### Event occurred\n",
        "\n",
        "after the event is picked the 'event ocurred' function is called to update the state of the model accordingly"
      ]
    },
    {
      "cell_type": "code",
      "metadata": {},
      "source": [
        "function event_occurred(m::Model, event_ix::Int)::Model\n",
        "    ev_type = (event_ix  / m.numpatch)|> floor\n",
        "    ev_location = (event_ix % m.numpatch)+1\n",
        "    if ev_type == 0 ## exposure\n",
        "        m.s[ev_location] -= 1\n",
        "        m.e[ev_location] += 1\n",
        "    elseif ev_type == 1 ## Infection\n",
        "        m.e[ev_location] -= 1\n",
        "        m.i[ev_location] += 1\n",
        "    elseif ev_type == 2 ## Recovery\n",
        "        m.i[ev_location] -= 1\n",
        "    end\n",
        "    m\n",
        "end"
      ],
      "execution_count": null,
      "outputs": []
    },
    {
      "cell_type": "code",
      "metadata": {},
      "source": [
        "    out = DataFrame(\n",
        "        t = Vector{Float64}(),\n",
        "        S = Vector{Int}(),\n",
        "        E = Vector{Int}(),\n",
        "        I = Vector{Int}(),\n",
        "    )\n",
        "    infs = 100;\n",
        "    m = new_model(params, infs)\n",
        "    t = 0.0\n",
        "    week = 0\n",
        "   while true\n",
        "        rates = m |> event_rates\n",
        "        net_rate = sum(rates)\n",
        "        if net_rate == 0.0 \n",
        "            break\n",
        "        end\n",
        "        dt = exp_sample(net_rate) #Sample exponential time\n",
        "        t += dt\n",
        "\n",
        "        ix = pick(rates, net_rate)\n",
        "        m = event_occurred(m, ix)\n",
        "        week = (t/7)|>floor\n",
        "\n",
        "        push!(out, [t, sum(m.s), sum(m.e), sum(m.i)])\n",
        "        if t >= 500\n",
        "            break\n",
        "        end\n",
        " end"
      ],
      "execution_count": null,
      "outputs": []
    },
    {
      "cell_type": "code",
      "metadata": {},
      "source": [
        "using StatsPlots\n",
        "\n",
        "@df out plot(:t, [:S :E :I])"
      ],
      "execution_count": null,
      "outputs": []
    }
  ],
  "metadata": {
    "kernelspec": {
      "name": "julia-1.8",
      "language": "julia",
      "display_name": "Julia 1.8.3"
    }
  },
  "nbformat": 4,
  "nbformat_minor": 4
}