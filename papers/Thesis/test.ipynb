{
  "cells": [
    {
      "cell_type": "raw",
      "metadata": {},
      "source": [
        "---\n",
        "title: \"Untitled\"\n",
        "format: html\n",
        "---"
      ],
      "id": "aed3f0e3"
    },
    {
      "cell_type": "code",
      "metadata": {},
      "source": [
        "datadir()"
      ],
      "id": "f60a3f4a",
      "execution_count": null,
      "outputs": []
    }
  ],
  "metadata": {
    "kernelspec": {
      "name": "julia-1.8",
      "language": "julia",
      "display_name": "Julia 1.8.3"
    }
  },
  "nbformat": 4,
  "nbformat_minor": 5
}