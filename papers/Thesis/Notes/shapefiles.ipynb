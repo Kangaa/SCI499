{
  "cells": [
    {
      "cell_type": "raw",
      "metadata": {},
      "source": [
        "---\n",
        "title: \"Maps and shapefiles in julia\"\n",
        "format: html\n",
        "---"
      ],
      "id": "c7f786b4"
    },
    {
      "cell_type": "code",
      "metadata": {},
      "source": [
        "using DrWatson\n",
        "@quickactivate \"SCI499\""
      ],
      "id": "67d39473",
      "execution_count": null,
      "outputs": []
    },
    {
      "cell_type": "code",
      "metadata": {},
      "source": [
        "using Shapefile\n",
        "\n",
        "ASGSdir = joinpath(datadir(),\"ASGS_GDA2020\")\n",
        "\n",
        "(AUS_SHP,\n",
        "GCCSA_SHP,\n",
        "MB_SHP,\n",
        "SA1_SHP,\n",
        "SA2_SHP,\n",
        "SA3_SHP,\n",
        "SA4_SHP, \n",
        "STE_SHP) = Shapefile.Table.(joinpath.(joinpath(ASGSdir),\n",
        "                readdir(ASGSdir),\n",
        "                string.(replace.(readdir(ASGSdir), r\"_SHP\" => \"\"),\n",
        "                 \".shp\")))"
      ],
      "id": "1c643113",
      "execution_count": null,
      "outputs": []
    },
    {
      "cell_type": "markdown",
      "metadata": {},
      "source": [
        "Create an index of the SA3 regions in the Greater Melbourne GCC"
      ],
      "id": "8e60a2aa"
    },
    {
      "cell_type": "code",
      "metadata": {},
      "source": [
        "using Tables\n",
        "\n",
        "GMelb_SA1_SHP,\n",
        "GMelb_SA2_SHP,\n",
        "GMelb_SA3_SHP,\n",
        "SGMelb_A4_SHP = (SA1_SHP,\n",
        "SA2_SHP,\n",
        "SA3_SHP,\n",
        "SA4_SHP) .|> x -> Tables.subset(x, x.GCC_NAME21 .== \"Greater Melbourne\")"
      ],
      "id": "1f192283",
      "execution_count": null,
      "outputs": []
    },
    {
      "cell_type": "code",
      "metadata": {},
      "source": [
        "GMelb_SA3_SHP.geometry |> plot"
      ],
      "id": "3d7853e8",
      "execution_count": null,
      "outputs": []
    }
  ],
  "metadata": {
    "kernelspec": {
      "name": "julia-1.8",
      "language": "julia",
      "display_name": "Julia 1.8.3"
    }
  },
  "nbformat": 4,
  "nbformat_minor": 5
}