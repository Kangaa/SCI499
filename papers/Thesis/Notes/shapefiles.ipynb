{
  "cells": [
    {
      "cell_type": "raw",
      "metadata": {},
      "source": [
        "---\n",
        "title: \"Maps and shapefiles in julia\"\n",
        "format: html\n",
        "---"
      ]
    },
    {
      "cell_type": "code",
      "metadata": {},
      "source": [
        "using DrWatson\n",
        "@quickactivate \"SCI499\""
      ],
      "execution_count": null,
      "outputs": []
    },
    {
      "cell_type": "code",
      "metadata": {},
      "source": [
        "using GeoTables\n",
        "\n",
        "ASGSdir = joinpath(datadir(),\"ASGS_GDA2020\")\n",
        "\n",
        "(AUS_SHP,\n",
        "GCCSA_SHP,\n",
        "MB_SHP,\n",
        "SA1_SHP,\n",
        "SA2_SHP,\n",
        "SA3_SHP,\n",
        "SA4_SHP, \n",
        "STE_SHP) = Shapefile.Table.(joinpath.(joinpath(ASGSdir),\n",
        "                readdir(ASGSdir),\n",
        "                string.(replace.(readdir(ASGSdir), r\"_SHP\" => \"\"),\n",
        "                 \".shp\")))"
      ],
      "execution_count": null,
      "outputs": []
    },
    {
      "cell_type": "markdown",
      "metadata": {},
      "source": [
        "Create an index of the SA3 regions in the Greater Melbourne GCC"
      ]
    },
    {
      "cell_type": "code",
      "metadata": {},
      "source": [
        "using Tables\n",
        "\n",
        "GMelb_SA1_SHP,\n",
        "GMelb_SA2_SHP,\n",
        "GMelb_SA3_SHP,\n",
        "SGMelb_A4_SHP = (\n",
        "    SA1_SHP,\n",
        "    SA2_SHP,\n",
        "    SA3_SHP,\n",
        "    SA4_SHP) .|>\n",
        "     x -> Tables.subset(x, x.GCC_NAME21 .== \"Greater Melbourne\")"
      ],
      "execution_count": null,
      "outputs": []
    },
    {
      "cell_type": "code",
      "metadata": {},
      "source": [
        "using Plots\n",
        "GMelb_SA3_SHP.geometry |> plot"
      ],
      "execution_count": null,
      "outputs": []
    },
    {
      "cell_type": "code",
      "metadata": {},
      "source": [
        "using Meshes\n",
        "using MeshViz\n",
        "using GLMakie\n",
        "\n",
        "\n",
        "\n",
        "function shape2mesh(geom::Shapefile.Polygon, simple::Bool)\n",
        "    g = geom\n",
        "    point_vec = Vector{Tuple}()\n",
        "    for i in g.points\n",
        "        x = i.x\n",
        "        y = i.y\n",
        "        push!(point_vec,(x,y))\n",
        "    end\n",
        "    poly = point_vec |> PolyArea \n",
        "    if simple == true\n",
        "        poly = simplify(poly, DouglasPeucker(0.005))\n",
        "    else\n",
        "        poly\n",
        "    end\n",
        "end"
      ],
      "execution_count": null,
      "outputs": []
    },
    {
      "cell_type": "code",
      "metadata": {},
      "source": [
        "GMelb_SA3_mesh = Vector{}(undef, length(GMelb_SA3_SHP.geometry))\n",
        "GMelb_SA3_mesh[i] = shape2mesh(GMelb_SA3_SHP.geometry[i], true)\n",
        "\n",
        "for i in eachindex(GMelb_SA3_SHP.geometry)\n",
        "    GMelb_SA3_mesh[i] = shape2mesh(GMelb_SA3_SHP.geometry[i], true)\n",
        "end\n"
      ],
      "execution_count": null,
      "outputs": []
    }
  ],
  "metadata": {
    "kernelspec": {
      "name": "julia-1.8",
      "language": "julia",
      "display_name": "Julia 1.8.3"
    }
  },
  "nbformat": 4,
  "nbformat_minor": 4
}