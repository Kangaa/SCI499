{
  "cells": [
    {
      "cell_type": "markdown",
      "metadata": {},
      "source": [
        "# Replicating Moss et al. 2019\n",
        "\n",
        "[@moss2019WhatCanUrban]\n"
      ],
      "id": "d590f1fd"
    },
    {
      "cell_type": "code",
      "metadata": {},
      "source": [
        "using DrWatson\n",
        "using CSV"
      ],
      "id": "b191b164",
      "execution_count": null,
      "outputs": []
    },
    {
      "cell_type": "markdown",
      "metadata": {},
      "source": [
        "get the mixing matrix from CSV"
      ],
      "id": "cbc92580"
    },
    {
      "cell_type": "code",
      "metadata": {},
      "source": [
        "frac_self = 0.5\n",
        "frac_cbd = 0.2\n",
        "path = joinpath(datadir(), \"Moss2018\\\\mixing\\\\abs_all.csv\")\n",
        "mixmat =CSV.File(path) \n",
        "CSV.ta"
      ],
      "id": "8dbf9fc1",
      "execution_count": null,
      "outputs": []
    },
    {
      "cell_type": "markdown",
      "metadata": {},
      "source": [
        "Epidemiological parameters\n"
      ],
      "id": "02daed53"
    },
    {
      "cell_type": "code",
      "metadata": {},
      "source": [
        "r0 = 1.4\n",
        "σ = 2.0\n",
        "γ = 0.5"
      ],
      "id": "530665a6",
      "execution_count": null,
      "outputs": []
    },
    {
      "cell_type": "markdown",
      "metadata": {},
      "source": [
        "Model Parameter type\n"
      ],
      "id": "71688a34"
    },
    {
      "cell_type": "code",
      "metadata": {},
      "source": [
        "struct Params\n",
        "    β::Float64\n",
        "    σ::Float64\n",
        "    γ::Float64\n",
        "    popn::Vector\n",
        "    mixmat::AbstractArray\n",
        "end"
      ],
      "id": "a597d579",
      "execution_count": null,
      "outputs": []
    },
    {
      "cell_type": "markdown",
      "metadata": {},
      "source": [
        "Model State type"
      ],
      "id": "6ac26ca5"
    },
    {
      "cell_type": "code",
      "metadata": {},
      "source": [
        "struct Model\n",
        "    params::Params\n",
        "    numpatch::Int\n",
        "    t::Float64\n",
        "    s::Vector\n",
        "    e::Vector\n",
        "    i::Vector\n",
        "end"
      ],
      "id": "7e9c7649",
      "execution_count": null,
      "outputs": []
    },
    {
      "cell_type": "markdown",
      "metadata": {},
      "source": [
        "Event type\n"
      ],
      "id": "e37f1a9f"
    }
  ],
  "metadata": {
    "kernelspec": {
      "name": "julia-1.8",
      "language": "julia",
      "display_name": "Julia 1.8.3"
    }
  },
  "nbformat": 4,
  "nbformat_minor": 5
}